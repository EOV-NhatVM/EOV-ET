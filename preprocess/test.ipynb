{
 "cells": [
  {
   "cell_type": "code",
   "execution_count": 1,
   "id": "4597ff48",
   "metadata": {},
   "outputs": [],
   "source": [
    "from preprocess import local_mean_fill, PreprocessStaticData, ClimateDataProcessor\n",
    "import os\n",
    "import xarray as xr \n",
    "import rioxarray as rxr  \n",
    "import glob"
   ]
  },
  {
   "cell_type": "code",
   "execution_count": 2,
   "id": "ef4009f8",
   "metadata": {},
   "outputs": [],
   "source": [
    "DATA_DIR = '/mnt/storage/code/pywapor-clms/dataset/dataset_TayNguyen'"
   ]
  },
  {
   "cell_type": "markdown",
   "id": "0395cca2",
   "metadata": {},
   "source": [
    "Test Static Processor Class"
   ]
  },
  {
   "cell_type": "code",
   "execution_count": 3,
   "id": "f5aced6f",
   "metadata": {},
   "outputs": [],
   "source": [
    "static_processor = PreprocessStaticData(DATA_DIR)"
   ]
  },
  {
   "cell_type": "code",
   "execution_count": 4,
   "id": "2564cadd",
   "metadata": {},
   "outputs": [],
   "source": [
    "static_vars = static_processor.preprocess_static_data()"
   ]
  },
  {
   "cell_type": "code",
   "execution_count": 5,
   "id": "3f41b74f",
   "metadata": {},
   "outputs": [
    {
     "data": {
      "text/plain": [
       "array([[ 90.     , 172.66667, 226.     , ..., 111.     , 104.     ,\n",
       "        296.     ],\n",
       "       [ 90.     , 146.42857, 270.     , ..., 157.     , 111.     ,\n",
       "        207.     ],\n",
       "       [123.     , 180.     ,  46.     , ..., 188.     , 314.     ,\n",
       "        279.     ],\n",
       "       ...,\n",
       "       [ 64.     , 252.     ,  54.     , ..., 146.     , 296.     ,\n",
       "         27.     ],\n",
       "       [244.     ,  72.     , 338.     , ..., 197.125  , 296.     ,\n",
       "        256.     ],\n",
       "       [343.     , 351.     ,  16.     , ..., 123.     , 296.     ,\n",
       "        116.     ]], dtype=float32)"
      ]
     },
     "execution_count": 5,
     "metadata": {},
     "output_type": "execute_result"
    }
   ],
   "source": [
    "static_vars['aspect'].values"
   ]
  },
  {
   "cell_type": "markdown",
   "id": "f39de33b",
   "metadata": {},
   "source": [
    "Test Climate Data Dynamic"
   ]
  },
  {
   "cell_type": "code",
   "execution_count": 6,
   "id": "4a11affe",
   "metadata": {},
   "outputs": [],
   "source": [
    "climate_preprocessor = ClimateDataProcessor(data_root=DATA_DIR)"
   ]
  },
  {
   "cell_type": "code",
   "execution_count": 7,
   "id": "167c45bf",
   "metadata": {},
   "outputs": [],
   "source": [
    "folder_ndvi = f\"{DATA_DIR}/ndvi/\"\n",
    "list_dates = climate_preprocessor.get_list_date(folder_ndvi)\n",
    "\n",
    "climate_preprocessor.process_all_dates(list_dates)"
   ]
  },
  {
   "cell_type": "code",
   "execution_count": 8,
   "id": "d7c67600",
   "metadata": {},
   "outputs": [],
   "source": [
    "dates = climate_preprocessor.valid_dates"
   ]
  },
  {
   "cell_type": "code",
   "execution_count": 9,
   "id": "a92731b8",
   "metadata": {},
   "outputs": [],
   "source": [
    "data_vars = climate_preprocessor.data_vars"
   ]
  },
  {
   "cell_type": "code",
   "execution_count": 10,
   "id": "c43291ba",
   "metadata": {},
   "outputs": [
    {
     "data": {
      "text/plain": [
       "dict_keys(['t_air_24', 't_air_min_24', 't_air_max_24', 't_dew_24', 'p_air_0_24', 'u2m_24', 'v2m_24', 'p_24', 'ra_flat_24', 'albedo', 'ndvi', 'se_root'])"
      ]
     },
     "execution_count": 10,
     "metadata": {},
     "output_type": "execute_result"
    }
   ],
   "source": [
    "data_vars.keys()"
   ]
  },
  {
   "cell_type": "code",
   "execution_count": null,
   "id": "02330c90",
   "metadata": {},
   "outputs": [],
   "source": []
  },
  {
   "cell_type": "code",
   "execution_count": 11,
   "id": "3e7efceb",
   "metadata": {},
   "outputs": [
    {
     "name": "stderr",
     "output_type": "stream",
     "text": [
      "/home/nhatvm/miniconda3/envs/my_pywapor_env/lib/python3.12/site-packages/tqdm/auto.py:21: TqdmWarning: IProgress not found. Please update jupyter and ipywidgets. See https://ipywidgets.readthedocs.io/en/stable/user_install.html\n",
      "  from .autonotebook import tqdm as notebook_tqdm\n",
      "/mnt/storage/code/pywapor-clms/pywapor_folder/et_look_v2_v3/solar_radiation.py:528: SyntaxWarning: invalid escape sequence '\\d'\n",
      "  :math:`S^{\\downarrow}`\n",
      "/mnt/storage/code/pywapor-clms/pywapor_folder/et_look_v2_v3/meteo.py:739: SyntaxWarning: invalid escape sequence '\\D'\n",
      "  :math:`\\Delta_{24}`\n",
      "/mnt/storage/code/pywapor-clms/pywapor_folder/et_look_v2_v3/meteo.py:830: SyntaxWarning: invalid escape sequence '\\D'\n",
      "  :math:`\\Delta_{e,24}`\n",
      "/mnt/storage/code/pywapor-clms/pywapor_folder/et_look_v2_v3/meteo.py:1248: SyntaxWarning: invalid escape sequence '\\l'\n",
      "  :math:`\\lambda_{24}`\n",
      "/mnt/storage/code/pywapor-clms/pywapor_folder/et_look_v2_v3/meteo.py:1311: SyntaxWarning: invalid escape sequence '\\l'\n",
      "  :math:`\\lambda_{24}`\n",
      "/mnt/storage/code/pywapor-clms/pywapor_folder/et_look_v2_v3/radiation.py:278: SyntaxWarning: invalid escape sequence '\\c'\n",
      "  Q^{*}_{soil} = s_f \\cdot Q^{*}\n"
     ]
    }
   ],
   "source": [
    "import sys\n",
    "import os\n",
    "\n",
    "# Thêm đường dẫn thư mục cha (chứa cả 'preprocess' và 'pywapor_folder')\n",
    "sys.path.append(os.path.abspath(os.path.join(os.getcwd(), '..')))\n",
    "\n",
    "# Giờ bạn có thể import\n",
    "from pywapor_folder.et_look import main  # hoặc bất kỳ module nào bạn muốn\n"
   ]
  },
  {
   "cell_type": "code",
   "execution_count": 12,
   "id": "cb4b61e1",
   "metadata": {},
   "outputs": [
    {
     "name": "stdout",
     "output_type": "stream",
     "text": [
      "Processing date: 2023-01-01\n",
      "ValuesView(<xarray.Dataset> Size: 187kB\n",
      "Dimensions:       (time_bins: 1, y: 41, x: 42)\n",
      "Coordinates:\n",
      "    band          int64 8B 1\n",
      "    spatial_ref   int64 8B 0\n",
      "  * x             (x) float64 336B 108.0 108.0 108.0 108.0 ... 108.0 108.0 108.0\n",
      "  * y             (y) float64 328B 12.46 12.46 12.46 12.46 ... 12.43 12.43 12.43\n",
      "  * time_bins     (time_bins) datetime64[s] 8B 2023-01-01\n",
      "Data variables: (12/17)\n",
      "    doy           (time_bins) int64 8B 1\n",
      "    ndvi          (y, x) float32 7kB 0.317 0.292 0.2375 ... 0.129 -0.06352\n",
      "    ra_flat_24    (y, x) float64 14kB 8.145 8.145 8.145 ... 8.567 8.567 8.567\n",
      "    slope         (y, x) float32 7kB 0.01745 0.05236 0.01745 ... 0.03491 0.03491\n",
      "    aspect        (y, x) float32 7kB 90.0 172.7 226.0 46.0 ... 123.0 296.0 116.0\n",
      "    p_air_0_24    (y, x) float64 14kB 96.43 96.43 96.43 ... 95.92 95.92 95.92\n",
      "    ...            ...\n",
      "    se_root       (y, x) float32 7kB 0.3385 0.3386 0.3407 ... 0.3653 0.358\n",
      "    u2m_24        (y, x) float64 14kB -1.982 -1.982 -1.982 ... -1.556 -1.556\n",
      "    v2m_24        (y, x) float64 14kB -1.441 -1.441 -1.441 ... -1.633 -1.633\n",
      "    p_24          (y, x) float64 14kB 0.0003553 0.0003553 ... 0.000281 0.000281\n",
      "    t_amp         (y, x) float64 14kB 6.653 6.653 6.653 6.653 ... 6.51 6.51 6.51\n",
      "    r0            (y, x) float64 14kB 0.9649 0.9674 0.9621 ... 1.12 1.094 1.115)\n"
     ]
    }
   ],
   "source": [
    "date = '2023-01-01'\n",
    "idx = 0 \n",
    "print(f\"Processing date: {date}\")\n",
    "ds_input = climate_preprocessor.prepare_data_input(static_vars, idx, date)\n",
    "print(ds_input.values())"
   ]
  },
  {
   "cell_type": "code",
   "execution_count": 13,
   "id": "1c0477a9",
   "metadata": {},
   "outputs": [
    {
     "data": {
      "text/plain": [
       "array([[ 0.31697667,  0.292     ,  0.23749475, ...,  0.60643435,\n",
       "         0.2049103 ,  0.3794187 ],\n",
       "       [ 0.32887492,  0.37706068,  0.2866557 , ...,  0.3723971 ,\n",
       "         0.14554456,  0.39597684],\n",
       "       [ 0.3143827 ,  0.39302227,  0.26558498, ...,  0.19946632,\n",
       "         0.1827112 ,  0.18789144],\n",
       "       ...,\n",
       "       [-0.18632479, -0.18383312,  0.35172415, ...,  0.14285715,\n",
       "         0.1404321 , -0.07025411],\n",
       "       [-0.13950565,  0.00189036,  0.5510204 , ...,  0.13071683,\n",
       "         0.14045802, -0.04318937],\n",
       "       [ 0.03732504,  0.5528053 ,  0.61915207, ...,  0.12119064,\n",
       "         0.12900159, -0.06351791]], dtype=float32)"
      ]
     },
     "execution_count": 13,
     "metadata": {},
     "output_type": "execute_result"
    }
   ],
   "source": [
    "ds_input['ndvi'].values"
   ]
  },
  {
   "cell_type": "code",
   "execution_count": 14,
   "id": "b1529fe7",
   "metadata": {},
   "outputs": [
    {
     "name": "stdout",
     "output_type": "stream",
     "text": [
      "> ET_LOOK\n",
      "    --> Running `et_look` (v3).\n",
      "    --> Setting `rs_min` to `100`.\n",
      "    --> Setting `land_mask` to `1`.\n",
      "    --> Setting `z_obst_max` to `3`.\n",
      "    --> Calculating `declination`.\n",
      "    --> Calculating `inverse_earth_sun_distance`.\n",
      "    --> Calculating `vegetation_cover`.\n",
      "    --> Calculating `leaf_area_index`.\n",
      "    --> Calculating `effective_leaf_area_index`.\n",
      "    --> Calculating `soil_fraction`.\n",
      "    --> Calculating `latitude_rad`.\n",
      "    --> Calculating `sunset_hour_angle`.\n",
      "    --> Calculating `daily_solar_radiation_toa_flat`.\n",
      "    --> Calculating `transmissivity`.\n",
      "    --> Calculating `seasonal_correction`.\n",
      "    --> Calculating `daily_solar_radiation_toa`.\n",
      "    --> Calculating `cosine_solar_zenith_angle`.\n",
      "    --> Calculating `inst_solar_radiation_toa`.\n",
      "    --> Calculating `transmissivity`.\n",
      "    --> Calculating `diffusion_index`.\n",
      "    --> Calculating `daily_total_solar_radiation`.\n",
      "    --> Calculating `stress_radiation`.\n",
      "    --> Calculating `air_pressure_kpa2mbar`.\n",
      "    --> Calculating `air_pressure_daily`.\n",
      "    --> Calculating `air_pressure`.\n",
      "    --> Calculating `vapour_pressure_from_dewpoint_daily`.\n",
      "    --> Calculating `saturated_vapour_pressure`.\n",
      "    --> Calculating `saturated_vapour_pressure_minimum`.\n",
      "    --> Calculating `saturated_vapour_pressure`.\n",
      "    --> Calculating `saturated_vapour_pressure_maximum`.\n",
      "    --> Calculating `saturated_vapour_pressure`.\n",
      "    --> Calculating `saturated_vapour_pressure_average`.\n",
      "    --> Calculating `vapour_pressure_deficit_daily`.\n",
      "    --> Calculating `vapour_pressure_deficit`.\n",
      "    --> Calculating `stress_vpd`.\n",
      "    --> Calculating `stress_temperature`.\n",
      "    --> Calculating `atmospheric_canopy_resistance`.\n",
      "    --> Calculating `air_temperature_kelvin_daily`.\n",
      "    --> Calculating `air_temperature_kelvin`.\n",
      "    --> Calculating `longwave_radiation_fao`.\n",
      "    --> Calculating `interception_mm`.\n",
      "    --> Calculating `latent_heat_daily`.\n",
      "    --> Calculating `latent_heat`.\n",
      "    --> Calculating `interception_wm2`.\n",
      "    --> Calculating `net_radiation`.\n",
      "    --> Calculating `net_radiation_canopy`.\n",
      "    --> Calculating `stress_moisture`.\n",
      "    --> Calculating `canopy_resistance`.\n",
      "    --> Setting `z_oro` to `0.001`.\n",
      "    --> Calculating `obstacle_height`.\n",
      "    --> Calculating `roughness_length`.\n",
      "    --> Calculating `wind_speed`.\n",
      "<class 'xarray.core.dataarray.DataArray'>\n",
      "    --> Calculating `initial_canopy_aerodynamic_resistance`.\n",
      "    --> Calculating `wind_speed_blending_height_daily`.\n",
      "    --> Calculating `wind_speed_blending_height`.\n",
      "u::::::: <xarray.DataArray 'u_24' (y: 41, x: 42)> Size: 14kB\n",
      "dask.array<sqrt, shape=(41, 42), dtype=float64, chunksize=(41, 42), chunktype=numpy.ndarray>\n",
      "Coordinates:\n",
      "    band         int64 8B 1\n",
      "    spatial_ref  int64 8B 0\n",
      "  * x            (x) float64 336B 108.0 108.0 108.0 108.0 ... 108.0 108.0 108.0\n",
      "  * y            (y) float64 328B 12.46 12.46 12.46 12.46 ... 12.43 12.43 12.43\n",
      "Attributes:\n",
      "    calculated_with:  ['u2m_24', 'v2m_24']\n",
      "    et_look_module:   pywapor_folder.et_look_v2_v3.meteo\n",
      "ws::::::: <xarray.DataArray 'u_24' (y: 41, x: 42)> Size: 14kB\n",
      "dask.array<truediv, shape=(41, 42), dtype=float64, chunksize=(41, 42), chunktype=numpy.ndarray>\n",
      "Coordinates:\n",
      "    band         int64 8B 1\n",
      "    spatial_ref  int64 8B 0\n",
      "  * x            (x) float64 336B 108.0 108.0 108.0 108.0 ... 108.0 108.0 108.0\n",
      "  * y            (y) float64 328B 12.46 12.46 12.46 12.46 ... 12.43 12.43 12.43\n",
      "    --> Calculating `dry_air_density_daily`.\n",
      "    --> Calculating `dry_air_density`.\n",
      "    --> Calculating `moist_air_density_daily`.\n",
      "    --> Calculating `moist_air_density`.\n",
      "    --> Calculating `air_density_daily`.\n",
      "    --> Calculating `air_density`.\n",
      "    --> Calculating `psychrometric_constant_daily`.\n",
      "    --> Calculating `psychrometric_constant`.\n",
      "    --> Calculating `slope_saturated_vapour_pressure_daily`.\n",
      "    --> Calculating `slope_saturated_vapour_pressure`.\n",
      "    --> Calculating `saturated_vapour_pressure`.\n",
      "    --> Calculating `initial_daily_transpiration`.\n",
      "    --> Calculating `initial_sensible_heat_flux_canopy_daily`.\n",
      "    --> Calculating `displacement_height`.\n",
      "    --> Calculating `initial_friction_velocity_daily`.\n",
      "    --> Calculating `transpiration`.\n",
      "        --> Starting iteration 1.\n",
      "        --> Calculating `ra_canopy`.\n",
      "            --> Starting iteration 1.\n",
      "            --> Iteration 1 finished.\n",
      "            --> Starting iteration 2.\n",
      "            --> Iteration 2 finished.\n",
      "        --> Iteration 1 finished.\n",
      "        --> Starting iteration 2.\n",
      "        --> Calculating `ra_canopy`.\n",
      "            --> Starting iteration 1.\n",
      "            --> Iteration 1 finished.\n",
      "            --> Starting iteration 2.\n",
      "            --> Iteration 2 finished.\n",
      "        --> Iteration 2 finished.\n",
      "    --> Calculating `transpiration_mm`.\n",
      "    --> Calculating `net_radiation_soil`.\n",
      "    --> Calculating `soil_resistance`.\n",
      "    --> Calculating `initial_soil_aerodynamic_resistance`.\n",
      "    --> Calculating `initial_friction_velocity_soil_daily`.\n",
      "    --> Calculating `soil_thermal_conductivity`.\n",
      "    --> Calculating `volumetric_heat_capacity`.\n",
      "    --> Calculating `damping_depth`.\n",
      "    --> Calculating `bare_soil_heat_flux`.\n",
      "    --> Calculating `soil_heat_flux`.\n",
      "    --> Calculating `initial_daily_evaporation`.\n",
      "    --> Calculating `initial_sensible_heat_flux_soil_daily`.\n",
      "    --> Calculating `evaporation`.\n",
      "    --> Calculating `evaporation_mm`.\n",
      "    --> Calculating `eti_actual_mm`.\n",
      "    --> Calculating `net_radiation_grass`.\n",
      "    --> Calculating `et_reference`.\n",
      "    --> Calculating `et_reference_mm`.\n",
      "    --> Saving output to `res_2023-01-01`.\n",
      "        --> Appending data to an existing file.\n"
     ]
    },
    {
     "ename": "OSError",
     "evalue": "[Errno -101] NetCDF: HDF error: '/mnt/storage/code/pywapor-clms/res_TayNguyen/2023-01-01/res_2023-01-01'",
     "output_type": "error",
     "traceback": [
      "\u001b[31m---------------------------------------------------------------------------\u001b[39m",
      "\u001b[31mKeyError\u001b[39m                                  Traceback (most recent call last)",
      "\u001b[36mFile \u001b[39m\u001b[32m~/miniconda3/envs/my_pywapor_env/lib/python3.12/site-packages/xarray/backends/file_manager.py:211\u001b[39m, in \u001b[36mCachingFileManager._acquire_with_cache_info\u001b[39m\u001b[34m(self, needs_lock)\u001b[39m\n\u001b[32m    210\u001b[39m \u001b[38;5;28;01mtry\u001b[39;00m:\n\u001b[32m--> \u001b[39m\u001b[32m211\u001b[39m     file = \u001b[38;5;28;43mself\u001b[39;49m\u001b[43m.\u001b[49m\u001b[43m_cache\u001b[49m\u001b[43m[\u001b[49m\u001b[38;5;28;43mself\u001b[39;49m\u001b[43m.\u001b[49m\u001b[43m_key\u001b[49m\u001b[43m]\u001b[49m\n\u001b[32m    212\u001b[39m \u001b[38;5;28;01mexcept\u001b[39;00m \u001b[38;5;167;01mKeyError\u001b[39;00m:\n",
      "\u001b[36mFile \u001b[39m\u001b[32m~/miniconda3/envs/my_pywapor_env/lib/python3.12/site-packages/xarray/backends/lru_cache.py:56\u001b[39m, in \u001b[36mLRUCache.__getitem__\u001b[39m\u001b[34m(self, key)\u001b[39m\n\u001b[32m     55\u001b[39m \u001b[38;5;28;01mwith\u001b[39;00m \u001b[38;5;28mself\u001b[39m._lock:\n\u001b[32m---> \u001b[39m\u001b[32m56\u001b[39m     value = \u001b[38;5;28;43mself\u001b[39;49m\u001b[43m.\u001b[49m\u001b[43m_cache\u001b[49m\u001b[43m[\u001b[49m\u001b[43mkey\u001b[49m\u001b[43m]\u001b[49m\n\u001b[32m     57\u001b[39m     \u001b[38;5;28mself\u001b[39m._cache.move_to_end(key)\n",
      "\u001b[31mKeyError\u001b[39m: [<class 'netCDF4._netCDF4.Dataset'>, ('/mnt/storage/code/pywapor-clms/res_TayNguyen/2023-01-01/res_2023-01-01',), 'a', (('clobber', True), ('diskless', False), ('format', 'NETCDF4'), ('persist', False)), 'c3124c8b-5a98-4bd2-b252-715d3d63ff72']",
      "\nDuring handling of the above exception, another exception occurred:\n",
      "\u001b[31mOSError\u001b[39m                                   Traceback (most recent call last)",
      "\u001b[36mCell\u001b[39m\u001b[36m \u001b[39m\u001b[32mIn[14]\u001b[39m\u001b[32m, line 1\u001b[39m\n\u001b[32m----> \u001b[39m\u001b[32m1\u001b[39m \u001b[43mmain\u001b[49m\u001b[43m(\u001b[49m\u001b[43mds_input\u001b[49m\u001b[43m,\u001b[49m\u001b[43m \u001b[49m\u001b[43met_look_version\u001b[49m\u001b[43m=\u001b[49m\u001b[33;43m'\u001b[39;49m\u001b[33;43mv3\u001b[39;49m\u001b[33;43m'\u001b[39;49m\u001b[43m,\u001b[49m\u001b[43m \u001b[49m\u001b[43mexport_vars\u001b[49m\u001b[43m=\u001b[49m\u001b[33;43m\"\u001b[39;49m\u001b[33;43mdefault\u001b[39;49m\u001b[33;43m\"\u001b[39;49m\u001b[43m,\u001b[49m\u001b[43m \u001b[49m\u001b[43mchunks\u001b[49m\u001b[43m=\u001b[49m\u001b[43m{\u001b[49m\u001b[43m}\u001b[49m\u001b[43m)\u001b[49m\n",
      "\u001b[36mFile \u001b[39m\u001b[32m/mnt/storage/code/pywapor-clms/pywapor_folder/et_look.py:307\u001b[39m, in \u001b[36mmain\u001b[39m\u001b[34m(input_data, et_look_version, export_vars, chunks)\u001b[39m\n\u001b[32m    305\u001b[39m         warnings.filterwarnings(\u001b[33m\"\u001b[39m\u001b[33mignore\u001b[39m\u001b[33m\"\u001b[39m, message=\u001b[33m\"\u001b[39m\u001b[33mdivide by zero encountered in log\u001b[39m\u001b[33m\"\u001b[39m)\n\u001b[32m    306\u001b[39m         warnings.filterwarnings(\u001b[33m\"\u001b[39m\u001b[33mignore\u001b[39m\u001b[33m\"\u001b[39m, message=\u001b[33m\"\u001b[39m\u001b[33mdivide by zero encountered in divide\u001b[39m\u001b[33m\"\u001b[39m)\n\u001b[32m--> \u001b[39m\u001b[32m307\u001b[39m         ds = \u001b[43msave_ds\u001b[49m\u001b[43m(\u001b[49m\u001b[43mds\u001b[49m\u001b[43m,\u001b[49m\u001b[43m \u001b[49m\u001b[43mfp_out\u001b[49m\u001b[43m,\u001b[49m\u001b[43m \u001b[49m\u001b[43mencoding\u001b[49m\u001b[43m \u001b[49m\u001b[43m=\u001b[49m\u001b[43m \u001b[49m\u001b[33;43m\"\u001b[39;49m\u001b[33;43minitiate\u001b[39;49m\u001b[33;43m\"\u001b[39;49m\u001b[43m,\u001b[49m\u001b[43m \u001b[49m\u001b[43mchunks\u001b[49m\u001b[43m \u001b[49m\u001b[43m=\u001b[49m\u001b[43m \u001b[49m\u001b[43mchunks\u001b[49m\u001b[43m,\u001b[49m\u001b[43m \u001b[49m\u001b[43mlabel\u001b[49m\u001b[43m \u001b[49m\u001b[43m=\u001b[49m\u001b[43m \u001b[49m\u001b[33;43mf\u001b[39;49m\u001b[33;43m\"\u001b[39;49m\u001b[33;43mSaving output to `\u001b[39;49m\u001b[38;5;132;43;01m{\u001b[39;49;00m\u001b[43mfn\u001b[49m\u001b[38;5;132;43;01m}\u001b[39;49;00m\u001b[33;43m`.\u001b[39;49m\u001b[33;43m\"\u001b[39;49m\u001b[43m)\u001b[49m\n\u001b[32m    309\u001b[39m t2 = datetime.datetime.now()\n\u001b[32m    310\u001b[39m log.sub().info(\u001b[33mf\u001b[39m\u001b[33m\"\u001b[39m\u001b[33m< ET_LOOK (\u001b[39m\u001b[38;5;132;01m{\u001b[39;00m\u001b[38;5;28mstr\u001b[39m(t2\u001b[38;5;250m \u001b[39m-\u001b[38;5;250m \u001b[39mt1)\u001b[38;5;132;01m}\u001b[39;00m\u001b[33m)\u001b[39m\u001b[33m\"\u001b[39m)\n",
      "\u001b[36mFile \u001b[39m\u001b[32m/mnt/storage/code/pywapor-clms/pywapor_folder/general/performance.py:50\u001b[39m, in \u001b[36mperformance_check.<locals>.wrapper_func\u001b[39m\u001b[34m(*args, **kwargs)\u001b[39m\n\u001b[32m     48\u001b[39m t1 = datetime.datetime.now()\n\u001b[32m     49\u001b[39m tracemalloc.start()\n\u001b[32m---> \u001b[39m\u001b[32m50\u001b[39m out = \u001b[43mfunc\u001b[49m\u001b[43m(\u001b[49m\u001b[43m*\u001b[49m\u001b[43margs\u001b[49m\u001b[43m,\u001b[49m\u001b[43m \u001b[49m\u001b[43m*\u001b[49m\u001b[43m*\u001b[49m\u001b[43mkwargs\u001b[49m\u001b[43m)\u001b[49m\n\u001b[32m     51\u001b[39m mem_test = tracemalloc.get_traced_memory()\n\u001b[32m     52\u001b[39m tracemalloc.stop()\n",
      "\u001b[36mFile \u001b[39m\u001b[32m/mnt/storage/code/pywapor-clms/pywapor_folder/general/processing_functions.py:340\u001b[39m, in \u001b[36msave_ds\u001b[39m\u001b[34m(ds, fp, decode_coords, encoding, chunks, precision)\u001b[39m\n\u001b[32m    338\u001b[39m         warnings.filterwarnings(\u001b[33m\"\u001b[39m\u001b[33mignore\u001b[39m\u001b[33m\"\u001b[39m, message=\u001b[33m\"\u001b[39m\u001b[33minvalid value encountered in power\u001b[39m\u001b[33m\"\u001b[39m)\n\u001b[32m    339\u001b[39m         warnings.filterwarnings(\u001b[33m\"\u001b[39m\u001b[33mignore\u001b[39m\u001b[33m\"\u001b[39m, message=\u001b[33m\"\u001b[39m\u001b[33minvalid value encountered in log\u001b[39m\u001b[33m\"\u001b[39m)\n\u001b[32m--> \u001b[39m\u001b[32m340\u001b[39m         \u001b[43mds\u001b[49m\u001b[43m.\u001b[49m\u001b[43mto_netcdf\u001b[49m\u001b[43m(\u001b[49m\u001b[43mtemp_fp\u001b[49m\u001b[43m,\u001b[49m\u001b[43m \u001b[49m\u001b[43mencoding\u001b[49m\u001b[43m \u001b[49m\u001b[43m=\u001b[49m\u001b[43m \u001b[49m\u001b[43mencoding\u001b[49m\u001b[43m,\u001b[49m\u001b[43m \u001b[49m\u001b[43mmode\u001b[49m\u001b[43m \u001b[49m\u001b[43m=\u001b[49m\u001b[43m \u001b[49m\u001b[43m{\u001b[49m\u001b[38;5;28;43;01mTrue\u001b[39;49;00m\u001b[43m:\u001b[49m\u001b[43m \u001b[49m\u001b[33;43m\"\u001b[39;49m\u001b[33;43ma\u001b[39;49m\u001b[33;43m\"\u001b[39;49m\u001b[43m,\u001b[49m\u001b[43m \u001b[49m\u001b[38;5;28;43;01mFalse\u001b[39;49;00m\u001b[43m:\u001b[49m\u001b[43m \u001b[49m\u001b[33;43m\"\u001b[39;49m\u001b[33;43mw\u001b[39;49m\u001b[33;43m\"\u001b[39;49m\u001b[43m}\u001b[49m\u001b[43m[\u001b[49m\u001b[43mappending\u001b[49m\u001b[43m]\u001b[49m\u001b[43m)\u001b[49m\n\u001b[32m    342\u001b[39m ds = ds.close()\n\u001b[32m    344\u001b[39m \u001b[38;5;28;01mif\u001b[39;00m \u001b[38;5;129;01mnot\u001b[39;00m appending:\n",
      "\u001b[36mFile \u001b[39m\u001b[32m~/miniconda3/envs/my_pywapor_env/lib/python3.12/site-packages/xarray/core/dataset.py:2029\u001b[39m, in \u001b[36mDataset.to_netcdf\u001b[39m\u001b[34m(self, path, mode, format, group, engine, encoding, unlimited_dims, compute, invalid_netcdf, auto_complex)\u001b[39m\n\u001b[32m   2026\u001b[39m     encoding = {}\n\u001b[32m   2027\u001b[39m \u001b[38;5;28;01mfrom\u001b[39;00m\u001b[38;5;250m \u001b[39m\u001b[34;01mxarray\u001b[39;00m\u001b[34;01m.\u001b[39;00m\u001b[34;01mbackends\u001b[39;00m\u001b[34;01m.\u001b[39;00m\u001b[34;01mapi\u001b[39;00m\u001b[38;5;250m \u001b[39m\u001b[38;5;28;01mimport\u001b[39;00m to_netcdf\n\u001b[32m-> \u001b[39m\u001b[32m2029\u001b[39m \u001b[38;5;28;01mreturn\u001b[39;00m \u001b[43mto_netcdf\u001b[49m\u001b[43m(\u001b[49m\u001b[43m  \u001b[49m\u001b[38;5;66;43;03m# type: ignore[return-value]  # mypy cannot resolve the overloads:(\u001b[39;49;00m\n\u001b[32m   2030\u001b[39m \u001b[43m    \u001b[49m\u001b[38;5;28;43mself\u001b[39;49m\u001b[43m,\u001b[49m\n\u001b[32m   2031\u001b[39m \u001b[43m    \u001b[49m\u001b[43mpath\u001b[49m\u001b[43m,\u001b[49m\n\u001b[32m   2032\u001b[39m \u001b[43m    \u001b[49m\u001b[43mmode\u001b[49m\u001b[43m=\u001b[49m\u001b[43mmode\u001b[49m\u001b[43m,\u001b[49m\n\u001b[32m   2033\u001b[39m \u001b[43m    \u001b[49m\u001b[38;5;28;43mformat\u001b[39;49m\u001b[43m=\u001b[49m\u001b[38;5;28;43mformat\u001b[39;49m\u001b[43m,\u001b[49m\n\u001b[32m   2034\u001b[39m \u001b[43m    \u001b[49m\u001b[43mgroup\u001b[49m\u001b[43m=\u001b[49m\u001b[43mgroup\u001b[49m\u001b[43m,\u001b[49m\n\u001b[32m   2035\u001b[39m \u001b[43m    \u001b[49m\u001b[43mengine\u001b[49m\u001b[43m=\u001b[49m\u001b[43mengine\u001b[49m\u001b[43m,\u001b[49m\n\u001b[32m   2036\u001b[39m \u001b[43m    \u001b[49m\u001b[43mencoding\u001b[49m\u001b[43m=\u001b[49m\u001b[43mencoding\u001b[49m\u001b[43m,\u001b[49m\n\u001b[32m   2037\u001b[39m \u001b[43m    \u001b[49m\u001b[43munlimited_dims\u001b[49m\u001b[43m=\u001b[49m\u001b[43munlimited_dims\u001b[49m\u001b[43m,\u001b[49m\n\u001b[32m   2038\u001b[39m \u001b[43m    \u001b[49m\u001b[43mcompute\u001b[49m\u001b[43m=\u001b[49m\u001b[43mcompute\u001b[49m\u001b[43m,\u001b[49m\n\u001b[32m   2039\u001b[39m \u001b[43m    \u001b[49m\u001b[43mmultifile\u001b[49m\u001b[43m=\u001b[49m\u001b[38;5;28;43;01mFalse\u001b[39;49;00m\u001b[43m,\u001b[49m\n\u001b[32m   2040\u001b[39m \u001b[43m    \u001b[49m\u001b[43minvalid_netcdf\u001b[49m\u001b[43m=\u001b[49m\u001b[43minvalid_netcdf\u001b[49m\u001b[43m,\u001b[49m\n\u001b[32m   2041\u001b[39m \u001b[43m    \u001b[49m\u001b[43mauto_complex\u001b[49m\u001b[43m=\u001b[49m\u001b[43mauto_complex\u001b[49m\u001b[43m,\u001b[49m\n\u001b[32m   2042\u001b[39m \u001b[43m\u001b[49m\u001b[43m)\u001b[49m\n",
      "\u001b[36mFile \u001b[39m\u001b[32m~/miniconda3/envs/my_pywapor_env/lib/python3.12/site-packages/xarray/backends/api.py:1967\u001b[39m, in \u001b[36mto_netcdf\u001b[39m\u001b[34m(dataset, path_or_file, mode, format, group, engine, encoding, unlimited_dims, compute, multifile, invalid_netcdf, auto_complex)\u001b[39m\n\u001b[32m   1964\u001b[39m \u001b[38;5;28;01mif\u001b[39;00m auto_complex \u001b[38;5;129;01mis\u001b[39;00m \u001b[38;5;129;01mnot\u001b[39;00m \u001b[38;5;28;01mNone\u001b[39;00m:\n\u001b[32m   1965\u001b[39m     kwargs[\u001b[33m\"\u001b[39m\u001b[33mauto_complex\u001b[39m\u001b[33m\"\u001b[39m] = auto_complex\n\u001b[32m-> \u001b[39m\u001b[32m1967\u001b[39m store = \u001b[43mstore_open\u001b[49m\u001b[43m(\u001b[49m\u001b[43mtarget\u001b[49m\u001b[43m,\u001b[49m\u001b[43m \u001b[49m\u001b[43mmode\u001b[49m\u001b[43m,\u001b[49m\u001b[43m \u001b[49m\u001b[38;5;28;43mformat\u001b[39;49m\u001b[43m,\u001b[49m\u001b[43m \u001b[49m\u001b[43mgroup\u001b[49m\u001b[43m,\u001b[49m\u001b[43m \u001b[49m\u001b[43m*\u001b[49m\u001b[43m*\u001b[49m\u001b[43mkwargs\u001b[49m\u001b[43m)\u001b[49m\n\u001b[32m   1969\u001b[39m \u001b[38;5;28;01mif\u001b[39;00m unlimited_dims \u001b[38;5;129;01mis\u001b[39;00m \u001b[38;5;28;01mNone\u001b[39;00m:\n\u001b[32m   1970\u001b[39m     unlimited_dims = dataset.encoding.get(\u001b[33m\"\u001b[39m\u001b[33munlimited_dims\u001b[39m\u001b[33m\"\u001b[39m, \u001b[38;5;28;01mNone\u001b[39;00m)\n",
      "\u001b[36mFile \u001b[39m\u001b[32m~/miniconda3/envs/my_pywapor_env/lib/python3.12/site-packages/xarray/backends/netCDF4_.py:457\u001b[39m, in \u001b[36mNetCDF4DataStore.open\u001b[39m\u001b[34m(cls, filename, mode, format, group, clobber, diskless, persist, auto_complex, lock, lock_maker, autoclose)\u001b[39m\n\u001b[32m    453\u001b[39m     kwargs[\u001b[33m\"\u001b[39m\u001b[33mauto_complex\u001b[39m\u001b[33m\"\u001b[39m] = auto_complex\n\u001b[32m    454\u001b[39m manager = CachingFileManager(\n\u001b[32m    455\u001b[39m     netCDF4.Dataset, filename, mode=mode, kwargs=kwargs\n\u001b[32m    456\u001b[39m )\n\u001b[32m--> \u001b[39m\u001b[32m457\u001b[39m \u001b[38;5;28;01mreturn\u001b[39;00m \u001b[38;5;28;43mcls\u001b[39;49m\u001b[43m(\u001b[49m\u001b[43mmanager\u001b[49m\u001b[43m,\u001b[49m\u001b[43m \u001b[49m\u001b[43mgroup\u001b[49m\u001b[43m=\u001b[49m\u001b[43mgroup\u001b[49m\u001b[43m,\u001b[49m\u001b[43m \u001b[49m\u001b[43mmode\u001b[49m\u001b[43m=\u001b[49m\u001b[43mmode\u001b[49m\u001b[43m,\u001b[49m\u001b[43m \u001b[49m\u001b[43mlock\u001b[49m\u001b[43m=\u001b[49m\u001b[43mlock\u001b[49m\u001b[43m,\u001b[49m\u001b[43m \u001b[49m\u001b[43mautoclose\u001b[49m\u001b[43m=\u001b[49m\u001b[43mautoclose\u001b[49m\u001b[43m)\u001b[49m\n",
      "\u001b[36mFile \u001b[39m\u001b[32m~/miniconda3/envs/my_pywapor_env/lib/python3.12/site-packages/xarray/backends/netCDF4_.py:398\u001b[39m, in \u001b[36mNetCDF4DataStore.__init__\u001b[39m\u001b[34m(self, manager, group, mode, lock, autoclose)\u001b[39m\n\u001b[32m    396\u001b[39m \u001b[38;5;28mself\u001b[39m._group = group\n\u001b[32m    397\u001b[39m \u001b[38;5;28mself\u001b[39m._mode = mode\n\u001b[32m--> \u001b[39m\u001b[32m398\u001b[39m \u001b[38;5;28mself\u001b[39m.format = \u001b[38;5;28;43mself\u001b[39;49m\u001b[43m.\u001b[49m\u001b[43mds\u001b[49m.data_model\n\u001b[32m    399\u001b[39m \u001b[38;5;28mself\u001b[39m._filename = \u001b[38;5;28mself\u001b[39m.ds.filepath()\n\u001b[32m    400\u001b[39m \u001b[38;5;28mself\u001b[39m.is_remote = is_remote_uri(\u001b[38;5;28mself\u001b[39m._filename)\n",
      "\u001b[36mFile \u001b[39m\u001b[32m~/miniconda3/envs/my_pywapor_env/lib/python3.12/site-packages/xarray/backends/netCDF4_.py:466\u001b[39m, in \u001b[36mNetCDF4DataStore.ds\u001b[39m\u001b[34m(self)\u001b[39m\n\u001b[32m    464\u001b[39m \u001b[38;5;129m@property\u001b[39m\n\u001b[32m    465\u001b[39m \u001b[38;5;28;01mdef\u001b[39;00m\u001b[38;5;250m \u001b[39m\u001b[34mds\u001b[39m(\u001b[38;5;28mself\u001b[39m):\n\u001b[32m--> \u001b[39m\u001b[32m466\u001b[39m     \u001b[38;5;28;01mreturn\u001b[39;00m \u001b[38;5;28;43mself\u001b[39;49m\u001b[43m.\u001b[49m\u001b[43m_acquire\u001b[49m\u001b[43m(\u001b[49m\u001b[43m)\u001b[49m\n",
      "\u001b[36mFile \u001b[39m\u001b[32m~/miniconda3/envs/my_pywapor_env/lib/python3.12/site-packages/xarray/backends/netCDF4_.py:460\u001b[39m, in \u001b[36mNetCDF4DataStore._acquire\u001b[39m\u001b[34m(self, needs_lock)\u001b[39m\n\u001b[32m    459\u001b[39m \u001b[38;5;28;01mdef\u001b[39;00m\u001b[38;5;250m \u001b[39m\u001b[34m_acquire\u001b[39m(\u001b[38;5;28mself\u001b[39m, needs_lock=\u001b[38;5;28;01mTrue\u001b[39;00m):\n\u001b[32m--> \u001b[39m\u001b[32m460\u001b[39m \u001b[43m    \u001b[49m\u001b[38;5;28;43;01mwith\u001b[39;49;00m\u001b[43m \u001b[49m\u001b[38;5;28;43mself\u001b[39;49m\u001b[43m.\u001b[49m\u001b[43m_manager\u001b[49m\u001b[43m.\u001b[49m\u001b[43macquire_context\u001b[49m\u001b[43m(\u001b[49m\u001b[43mneeds_lock\u001b[49m\u001b[43m)\u001b[49m\u001b[43m \u001b[49m\u001b[38;5;28;43;01mas\u001b[39;49;00m\u001b[43m \u001b[49m\u001b[43mroot\u001b[49m\u001b[43m:\u001b[49m\n\u001b[32m    461\u001b[39m \u001b[43m        \u001b[49m\u001b[43mds\u001b[49m\u001b[43m \u001b[49m\u001b[43m=\u001b[49m\u001b[43m \u001b[49m\u001b[43m_nc4_require_group\u001b[49m\u001b[43m(\u001b[49m\u001b[43mroot\u001b[49m\u001b[43m,\u001b[49m\u001b[43m \u001b[49m\u001b[38;5;28;43mself\u001b[39;49m\u001b[43m.\u001b[49m\u001b[43m_group\u001b[49m\u001b[43m,\u001b[49m\u001b[43m \u001b[49m\u001b[38;5;28;43mself\u001b[39;49m\u001b[43m.\u001b[49m\u001b[43m_mode\u001b[49m\u001b[43m)\u001b[49m\n\u001b[32m    462\u001b[39m     \u001b[38;5;28;01mreturn\u001b[39;00m ds\n",
      "\u001b[36mFile \u001b[39m\u001b[32m~/miniconda3/envs/my_pywapor_env/lib/python3.12/contextlib.py:137\u001b[39m, in \u001b[36m_GeneratorContextManager.__enter__\u001b[39m\u001b[34m(self)\u001b[39m\n\u001b[32m    135\u001b[39m \u001b[38;5;28;01mdel\u001b[39;00m \u001b[38;5;28mself\u001b[39m.args, \u001b[38;5;28mself\u001b[39m.kwds, \u001b[38;5;28mself\u001b[39m.func\n\u001b[32m    136\u001b[39m \u001b[38;5;28;01mtry\u001b[39;00m:\n\u001b[32m--> \u001b[39m\u001b[32m137\u001b[39m     \u001b[38;5;28;01mreturn\u001b[39;00m \u001b[38;5;28;43mnext\u001b[39;49m\u001b[43m(\u001b[49m\u001b[38;5;28;43mself\u001b[39;49m\u001b[43m.\u001b[49m\u001b[43mgen\u001b[49m\u001b[43m)\u001b[49m\n\u001b[32m    138\u001b[39m \u001b[38;5;28;01mexcept\u001b[39;00m \u001b[38;5;167;01mStopIteration\u001b[39;00m:\n\u001b[32m    139\u001b[39m     \u001b[38;5;28;01mraise\u001b[39;00m \u001b[38;5;167;01mRuntimeError\u001b[39;00m(\u001b[33m\"\u001b[39m\u001b[33mgenerator didn\u001b[39m\u001b[33m'\u001b[39m\u001b[33mt yield\u001b[39m\u001b[33m\"\u001b[39m) \u001b[38;5;28;01mfrom\u001b[39;00m\u001b[38;5;250m \u001b[39m\u001b[38;5;28;01mNone\u001b[39;00m\n",
      "\u001b[36mFile \u001b[39m\u001b[32m~/miniconda3/envs/my_pywapor_env/lib/python3.12/site-packages/xarray/backends/file_manager.py:199\u001b[39m, in \u001b[36mCachingFileManager.acquire_context\u001b[39m\u001b[34m(self, needs_lock)\u001b[39m\n\u001b[32m    196\u001b[39m \u001b[38;5;129m@contextlib\u001b[39m.contextmanager\n\u001b[32m    197\u001b[39m \u001b[38;5;28;01mdef\u001b[39;00m\u001b[38;5;250m \u001b[39m\u001b[34macquire_context\u001b[39m(\u001b[38;5;28mself\u001b[39m, needs_lock=\u001b[38;5;28;01mTrue\u001b[39;00m):\n\u001b[32m    198\u001b[39m \u001b[38;5;250m    \u001b[39m\u001b[33;03m\"\"\"Context manager for acquiring a file.\"\"\"\u001b[39;00m\n\u001b[32m--> \u001b[39m\u001b[32m199\u001b[39m     file, cached = \u001b[38;5;28;43mself\u001b[39;49m\u001b[43m.\u001b[49m\u001b[43m_acquire_with_cache_info\u001b[49m\u001b[43m(\u001b[49m\u001b[43mneeds_lock\u001b[49m\u001b[43m)\u001b[49m\n\u001b[32m    200\u001b[39m     \u001b[38;5;28;01mtry\u001b[39;00m:\n\u001b[32m    201\u001b[39m         \u001b[38;5;28;01myield\u001b[39;00m file\n",
      "\u001b[36mFile \u001b[39m\u001b[32m~/miniconda3/envs/my_pywapor_env/lib/python3.12/site-packages/xarray/backends/file_manager.py:217\u001b[39m, in \u001b[36mCachingFileManager._acquire_with_cache_info\u001b[39m\u001b[34m(self, needs_lock)\u001b[39m\n\u001b[32m    215\u001b[39m     kwargs = kwargs.copy()\n\u001b[32m    216\u001b[39m     kwargs[\u001b[33m\"\u001b[39m\u001b[33mmode\u001b[39m\u001b[33m\"\u001b[39m] = \u001b[38;5;28mself\u001b[39m._mode\n\u001b[32m--> \u001b[39m\u001b[32m217\u001b[39m file = \u001b[38;5;28;43mself\u001b[39;49m\u001b[43m.\u001b[49m\u001b[43m_opener\u001b[49m\u001b[43m(\u001b[49m\u001b[43m*\u001b[49m\u001b[38;5;28;43mself\u001b[39;49m\u001b[43m.\u001b[49m\u001b[43m_args\u001b[49m\u001b[43m,\u001b[49m\u001b[43m \u001b[49m\u001b[43m*\u001b[49m\u001b[43m*\u001b[49m\u001b[43mkwargs\u001b[49m\u001b[43m)\u001b[49m\n\u001b[32m    218\u001b[39m \u001b[38;5;28;01mif\u001b[39;00m \u001b[38;5;28mself\u001b[39m._mode == \u001b[33m\"\u001b[39m\u001b[33mw\u001b[39m\u001b[33m\"\u001b[39m:\n\u001b[32m    219\u001b[39m     \u001b[38;5;66;03m# ensure file doesn't get overridden when opened again\u001b[39;00m\n\u001b[32m    220\u001b[39m     \u001b[38;5;28mself\u001b[39m._mode = \u001b[33m\"\u001b[39m\u001b[33ma\u001b[39m\u001b[33m\"\u001b[39m\n",
      "\u001b[36mFile \u001b[39m\u001b[32msrc/netCDF4/_netCDF4.pyx:2521\u001b[39m, in \u001b[36mnetCDF4._netCDF4.Dataset.__init__\u001b[39m\u001b[34m()\u001b[39m\n",
      "\u001b[36mFile \u001b[39m\u001b[32msrc/netCDF4/_netCDF4.pyx:2158\u001b[39m, in \u001b[36mnetCDF4._netCDF4._ensure_nc_success\u001b[39m\u001b[34m()\u001b[39m\n",
      "\u001b[31mOSError\u001b[39m: [Errno -101] NetCDF: HDF error: '/mnt/storage/code/pywapor-clms/res_TayNguyen/2023-01-01/res_2023-01-01'"
     ]
    }
   ],
   "source": [
    "main(ds_input, et_look_version='v3', export_vars=\"default\", chunks={})"
   ]
  }
 ],
 "metadata": {
  "kernelspec": {
   "display_name": "my_pywapor_env",
   "language": "python",
   "name": "python3"
  },
  "language_info": {
   "codemirror_mode": {
    "name": "ipython",
    "version": 3
   },
   "file_extension": ".py",
   "mimetype": "text/x-python",
   "name": "python",
   "nbconvert_exporter": "python",
   "pygments_lexer": "ipython3",
   "version": "3.12.11"
  }
 },
 "nbformat": 4,
 "nbformat_minor": 5
}
